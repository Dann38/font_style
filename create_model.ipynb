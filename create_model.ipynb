{
 "cells": [
  {
   "cell_type": "markdown",
   "id": "1f3d825e",
   "metadata": {},
   "source": [
    "Данный файл служит для создания модели. Модель обучается на искусствено сгенерированных данных, генерирующиеся по тексту из файла 10000-russion-words.txt и шрифтов из папки font. "
   ]
  },
  {
   "cell_type": "code",
   "execution_count": 1,
   "id": "3701c664",
   "metadata": {},
   "outputs": [],
   "source": [
    "from PIL import Image, ImageDraw, ImageFont, ImageOps\n",
    "import numpy as np\n",
    "import pandas as pd\n",
    "import cv2\n",
    "import tensorflow as tf\n",
    "from conf import *"
   ]
  },
  {
   "cell_type": "markdown",
   "id": "2fc97aca",
   "metadata": {},
   "source": [
    "Для правильного подбора параметров в файле conf.py используется сочетание букв \"fp\". Если они помещаются, то и буквы классических шрифтов поместятся в заданный прямоугольник.\n",
    "\n",
    "Например:\n",
    "SIZE = 20                                   # Размер шрифта\n",
    "W_H = 1.7                                   # Отношение высоты к ширене\n",
    "DELTA_POSITION = 5                          # Максимальный отступ сверху\n"
   ]
  },
  {
   "cell_type": "code",
   "execution_count": 2,
   "id": "c87ed055",
   "metadata": {},
   "outputs": [
    {
     "data": {
      "image/png": "[encoded data removed]",
      "text/plain": [
       "<PIL.Image.Image image mode=L size=20x20>"
      ]
     },
     "execution_count": 2,
     "metadata": {},
     "output_type": "execute_result"
    }
   ],
   "source": [
    "size_w = 20\n",
    "size_h = 20\n",
    "size = 15\n",
    "img = Image.new('L', (size_w, size_h), color = 255)\n",
    " \n",
    "fnt = ImageFont.truetype('font/TimesNewRomanCyr_Regular.ttf', size)\n",
    "d = ImageDraw.Draw(img)\n",
    "d.text((0, -3), \"fp\", font=fnt, fill=0)\n",
    "img"
   ]
  },
  {
   "cell_type": "markdown",
   "id": "e7cbec44",
   "metadata": {},
   "source": [
    "Следующие две функции необходимы для генерации данных. \n",
    "- get_img_work для генерации одной картинки с заданным текстом;\n",
    "- get_dataset сам массив обучающих и тестовых данных.\n",
    "\n",
    "При генерации берутся разные шрифты, разные типы шрифтов (что и отличает программа),различные смещения (DELTA_POSITION число смещений по OX, столько же по OY), различные слова из файла."
   ]
  },
  {
   "cell_type": "code",
   "execution_count": 3,
   "id": "99e71bf4",
   "metadata": {},
   "outputs": [],
   "source": [
    "def get_img_word(text_word, font, dx, dy):\n",
    "    '''\n",
    "    Создаем картинку слова в виде массива пикселей row размера M,\n",
    "    а также картинку img_rez как Image объект.\n",
    "    '''\n",
    "    \n",
    "    # Находим размеры слова по числу букв\n",
    "    n=len(text_word)\n",
    "    size_w = round(SIZE/W_H*n + DELTA_POSITION)\n",
    "    size_h = H_SIZE\n",
    "    \n",
    "    # Рисование текста\n",
    "    img = Image.new('L', (size_w, size_h), color = 0)\n",
    "    fnt = ImageFont.truetype(font, SIZE) \n",
    "    d = ImageDraw.Draw(img)\n",
    "    d.text((START_X+dx, START_Y+dy), text_word, font=fnt, fill=255)\n",
    "\n",
    "    # Подгоняем размер под средний\n",
    "    crop_image = img.crop((size_w-MEAN_W_SIZE_WORD, 0, size_w, size_h))\n",
    "    img_rez = ImageOps.invert(crop_image)\n",
    "    row = np.reshape(img_rez, M)/255\n",
    "    return (row, img_rez)"
   ]
  },
  {
   "cell_type": "code",
   "execution_count": 4,
   "id": "993b348a",
   "metadata": {},
   "outputs": [],
   "source": [
    "def get_dataset():\n",
    "    \"\"\"\n",
    "    Генерируем данные для обучения модели. Слова из файла с разными шрифтами,\n",
    "    прописаными выше. На выходе получаем 2 набора: \n",
    "    (X_train, y_train) для обучения, (X_test, y_test) для проверки \n",
    "    \"\"\"\n",
    "    # https://github.com/hingston/russian/blob/master/10000-russian-words.txt\n",
    "    words = []\n",
    "    with open(\"10000-russian-words.txt\", \"r\", encoding=\"utf-8\") as f:\n",
    "        for line in f:\n",
    "            words.append(line[:-1]) #Без символа '\\n'\n",
    "\n",
    "    words=words[:COUNT_WORDS]\n",
    "    positions_N = DELTA_POSITION**2\n",
    "\n",
    "    count_words = len(words)\n",
    "    count_name_fonts = len(NAME_FONTS)\n",
    "    count_type_fonts = len(TYPE_FONTS)\n",
    "\n",
    "    num_type_fonts = range(count_type_fonts)\n",
    "\n",
    "    n = count_words*count_name_fonts*count_type_fonts*positions_N\n",
    "\n",
    "    X = np.zeros((n, M))\n",
    "    y = np.zeros((n, 1))\n",
    "    k=0\n",
    "\n",
    "    for name_font in NAME_FONTS:\n",
    "        for index_type_font in range(count_type_fonts):\n",
    "            fnt = f'font/{name_font}_{TYPE_FONTS[index_type_font]}.ttf'\n",
    "            for position in range(positions_N):\n",
    "                for i in range(count_words):\n",
    "                    dx = position//DELTA_POSITION\n",
    "                    dy = position%DELTA_POSITION\n",
    "                    row, _ = get_img_word(words[i],fnt, dx, dy)\n",
    "                    X[k*count_words+i, :] = row\n",
    "                    y[k*count_words+i] = index_type_font\n",
    "                k += 1\n",
    "    X = pd.DataFrame(X)\n",
    "    y = pd.DataFrame(y)\n",
    "    shuffle_index = np.random.permutation(n)\n",
    "\n",
    "    X.reindex(index=shuffle_index)\n",
    "    y.reindex(index=shuffle_index)\n",
    "    \n",
    "    index_start_test = int(n/4*3)\n",
    "    X_train, X_test = X[:index_start_test], X[index_start_test:]\n",
    "    y_train, y_test = y[:index_start_test], y[index_start_test:]\n",
    "\n",
    "    return (X_train, y_train, X_test, y_test)"
   ]
  },
  {
   "cell_type": "markdown",
   "id": "019cfa60",
   "metadata": {},
   "source": [
    "Непосредственно настройка модели, параметры взяты из примера (https://www.tensorflow.org/tutorials/keras/classification)"
   ]
  },
  {
   "cell_type": "code",
   "execution_count": 5,
   "id": "c411563d",
   "metadata": {},
   "outputs": [],
   "source": [
    "# Получение данных\n",
    "X_train, y_train, X_test, y_test = get_dataset()"
   ]
  },
  {
   "cell_type": "code",
   "execution_count": 6,
   "id": "4c7c807b",
   "metadata": {},
   "outputs": [],
   "source": [
    "# СОЗДАНИЕ МОДЕЛИ\n",
    "model = tf.keras.Sequential([\n",
    "    tf.keras.layers.Flatten(input_shape=(M,)), # Запись данных в строку\n",
    "    tf.keras.layers.Dense(128, activation='relu'), # Слой с 128 нейронами\n",
    "    tf.keras.layers.Dense(len(TYPE_FONTS)) # Массив логитов длиной 2-3\n",
    "])"
   ]
  },
  {
   "cell_type": "code",
   "execution_count": 7,
   "id": "836f2b39",
   "metadata": {},
   "outputs": [],
   "source": [
    "# НАСТРОЙКА МОДЕЛИ\n",
    "model.compile(optimizer='adam', # Про методы https://habr.com/ru/post/318970/\n",
    "              loss=tf.keras.losses.SparseCategoricalCrossentropy(from_logits=True),\n",
    "              metrics=['accuracy']) # Метрика, в данном случае точность"
   ]
  },
  {
   "cell_type": "code",
   "execution_count": 8,
   "id": "512214b0",
   "metadata": {},
   "outputs": [
    {
     "name": "stdout",
     "output_type": "stream",
     "text": [
      "Epoch 1/10\n",
      "2110/2110 [==============================] - 5s 2ms/step - loss: 0.8168 - accuracy: 0.6020\n",
      "Epoch 2/10\n",
      "2110/2110 [==============================] - 4s 2ms/step - loss: 0.6238 - accuracy: 0.7020\n",
      "Epoch 3/10\n",
      "2110/2110 [==============================] - 4s 2ms/step - loss: 0.5555 - accuracy: 0.7330\n",
      "Epoch 4/10\n",
      "2110/2110 [==============================] - 4s 2ms/step - loss: 0.5198 - accuracy: 0.7552\n",
      "Epoch 5/10\n",
      "2110/2110 [==============================] - 4s 2ms/step - loss: 0.4946 - accuracy: 0.7660\n",
      "Epoch 6/10\n",
      "2110/2110 [==============================] - 4s 2ms/step - loss: 0.4770 - accuracy: 0.7767\n",
      "Epoch 7/10\n",
      "2110/2110 [==============================] - 4s 2ms/step - loss: 0.4612 - accuracy: 0.7859\n",
      "Epoch 8/10\n",
      "2110/2110 [==============================] - 4s 2ms/step - loss: 0.4478 - accuracy: 0.7943\n",
      "Epoch 9/10\n",
      "2110/2110 [==============================] - 4s 2ms/step - loss: 0.4383 - accuracy: 0.8010\n",
      "Epoch 10/10\n",
      "2110/2110 [==============================] - 4s 2ms/step - loss: 0.4297 - accuracy: 0.8056\n",
      "\n",
      "Test accuracy: 0.6002222299575806\n"
     ]
    }
   ],
   "source": [
    "# Обучение и проверка результата\n",
    "model.fit(X_train.to_numpy(), y_train.to_numpy(), epochs=10)\n",
    "test_loss, test_acc = model.evaluate(X_test,  y_test, verbose=len(TYPE_FONTS))\n",
    "\n",
    "print('\\nTest accuracy:', test_acc)"
   ]
  },
  {
   "cell_type": "markdown",
   "id": "a55736d9",
   "metadata": {},
   "source": [
    "Модель сохраняется в файле указаном в NAME_MODEL. Этот файл используется в font_style_classifier"
   ]
  },
  {
   "cell_type": "code",
   "execution_count": 9,
   "id": "626f908a",
   "metadata": {},
   "outputs": [
    {
     "name": "stdout",
     "output_type": "stream",
     "text": [
      "INFO:tensorflow:Assets written to: model_3\\assets\n"
     ]
    }
   ],
   "source": [
    "# Сохранение модели\n",
    "model.save(NAME_MODEL)"
   ]
  },
  {
   "cell_type": "code",
   "execution_count": null,
   "id": "9662b548",
   "metadata": {},
   "outputs": [],
   "source": []
  }
 ],
 "metadata": {
  "kernelspec": {
   "display_name": "Python 3 (ipykernel)",
   "language": "python",
   "name": "python3"
  },
  "language_info": {
   "codemirror_mode": {
    "name": "ipython",
    "version": 3
   },
   "file_extension": ".py",
   "mimetype": "text/x-python",
   "name": "python",
   "nbconvert_exporter": "python",
   "pygments_lexer": "ipython3",
   "version": "3.10.5"
  }
 },
 "nbformat": 4,
 "nbformat_minor": 5
}
