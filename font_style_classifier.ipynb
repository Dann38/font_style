{
 "cells": [
  {
   "cell_type": "markdown",
   "id": "16735c83",
   "metadata": {},
   "source": [
    "Данный файл служит для проверки работы обученной нейронной сети. Базируется на OCR Tesseract. Предварительно необходимо запустить файл create_model. "
   ]
  },
  {
   "cell_type": "code",
   "execution_count": 1,
   "id": "6fbfb487",
   "metadata": {},
   "outputs": [],
   "source": [
    "from PIL import Image, ImageDraw, ImageFont, ImageOps\n",
    "import numpy as np\n",
    "import pandas as pd\n",
    "import cv2\n",
    "import tensorflow as tf\n",
    "\n",
    "import pytesseract\n",
    "from pytesseract import Output\n",
    "from conf import *"
   ]
  },
  {
   "cell_type": "markdown",
   "id": "072c0bf9",
   "metadata": {},
   "source": [
    "Следующие две функции необходимы для обработки блоков полученных от программы tesseract. Данные переводятся в тот формат, в котором работает обученная модель."
   ]
  },
  {
   "cell_type": "code",
   "execution_count": 2,
   "id": "e85d3849",
   "metadata": {},
   "outputs": [],
   "source": [
    "def img_conversion(path, src=None):\n",
    "    # Подгон под высоту\n",
    "    if src is None:\n",
    "        src = cv2.imread(path)\n",
    "    size_h, size_w, _ = src.shape\n",
    "    a = H_SIZE/size_h\n",
    "    size = (round(size_w*a),H_SIZE)\n",
    "    result2 = cv2.resize(src, size)\n",
    "    \n",
    "    img = Image.fromarray(result2)\n",
    "    img = ImageOps.invert(img)\n",
    "    size_w, size_h = img.size\n",
    "    crop_image = img.crop((size_w-MEAN_W_SIZE_WORD, 0, size_w, size_h))\n",
    "    \n",
    "    img_rez = ImageOps.invert(crop_image).convert('L')\n",
    "    row = np.reshape(img_rez, M)/255\n",
    "    return (row, img_rez)\n",
    "\n",
    "def cropped_img(img_word):\n",
    "    img = 255 -img_word\n",
    "\n",
    "    gray = cv2.cvtColor(img, cv2.COLOR_BGR2GRAY)\n",
    "\n",
    "    ret, thresh1 = cv2.threshold(gray, 0, 255, cv2.THRESH_OTSU, cv2.THRESH_BINARY_INV)\n",
    "\n",
    "    rect_kernel = cv2.getStructuringElement(cv2.MORPH_RECT, (2, 2))\n",
    "    dilation = cv2.dilate(thresh1, rect_kernel, iterations = 2)\n",
    "\n",
    "    contours, hierarchy = cv2.findContours(dilation, cv2.RETR_EXTERNAL, cv2.CHAIN_APPROX_NONE)\n",
    "    img2 = img.copy()\n",
    "    for cnt in contours:\n",
    "        x, y, w, h = cv2.boundingRect(cnt)     \n",
    "        cropped = img2[y:y + h, x:x + w]\n",
    "\n",
    "    img_crop = 255 - img2\n",
    "    return img_crop, (x, y, w, h)"
   ]
  },
  {
   "cell_type": "code",
   "execution_count": 3,
   "id": "5386722c",
   "metadata": {},
   "outputs": [],
   "source": [
    "# Загрузка модели\n",
    "model = tf.keras.models.load_model(NAME_MODEL)\n"
   ]
  },
  {
   "cell_type": "markdown",
   "id": "42a8ddb3",
   "metadata": {},
   "source": [
    "name_file - путь к файлу, который будет обрабатываться. Полученные данные из tesseract подготавливаются, а затем обрабатываются в зависимости от того, к какому классу распределит модель данные. Результат выводится в качестве изображения."
   ]
  },
  {
   "cell_type": "code",
   "execution_count": 4,
   "id": "89375f4a",
   "metadata": {},
   "outputs": [
    {
     "name": "stdout",
     "output_type": "stream",
     "text": [
      "14/14 [==============================] - 0s 2ms/step\n"
     ]
    },
    {
     "data": {
      "text/plain": [
       "-1"
      ]
     },
     "execution_count": 4,
     "metadata": {},
     "output_type": "execute_result"
    }
   ],
   "source": [
    "name_file = f\"../img/text_8.png\"\n",
    "img = cv2.imread(name_file)\n",
    "\n",
    "d = pytesseract.image_to_data(img, config=CONFIG_TESSERACT, output_type=Output.DICT)\n",
    "n_boxes = len(d['text'])\n",
    "rows = np.zeros((n_boxes, M))\n",
    "k = 0\n",
    "\n",
    "for i in range(n_boxes):\n",
    "    if int(d['conf'][i]) > CONF:\n",
    "        (x, y, w, h) = (d['left'][i], d['top'][i], d['width'][i], d['height'][i])\n",
    "        if w>MIN_W and h>MIN_H:\n",
    "            img_word = img[y:y+h, x:x+w, :]\n",
    "            img_word_crop, delta = cropped_img(img_word)\n",
    "            r, _ = img_conversion(None, img_word_crop)\n",
    "            rows[k, :] = r\n",
    "            k += 1\n",
    "\n",
    "predict_model = model.predict(rows)   \n",
    "k = 0\n",
    "\n",
    "for i in range(n_boxes):\n",
    "    if int(d['conf'][i]) > CONF:\n",
    "        (x, y, w, h) = (d['left'][i], d['top'][i], d['width'][i], d['height'][i])\n",
    "        if w>MIN_W and h>MIN_H:\n",
    "            img_word = img[y:y+h, x:x+w, :]\n",
    "            img_word_crop, delta = cropped_img(img_word)\n",
    "            r, im = img_conversion(None, img_word_crop)\n",
    "            if MY_CROP:\n",
    "                x = x+delta[0]\n",
    "                y = y+delta[1]\n",
    "                w = delta[2]\n",
    "                h = delta[3]\n",
    "            if predict_model[k].argmax() == 1:       \n",
    "                img = cv2.rectangle(img, (x, y), (x + w, y + h), BOLD_COLOR, 2)\n",
    "            elif predict_model[k].argmax() == 2:\n",
    "                img = cv2.rectangle(img, (x, y), (x + w, y + h), ITALIC_COLOR, 2)\n",
    "            else:\n",
    "                img = cv2.rectangle(img, (x, y), (x + w, y + h), REGULAR_COLOR, 2)\n",
    "            k += 1\n",
    "cv2.namedWindow(NAME_WINDOW_IMG, cv2.WINDOW_NORMAL)\n",
    "cv2.resizeWindow(NAME_WINDOW_IMG, SIZE_W_WINDOW, SIZE_H_WINDOW)\n",
    "cv2.imshow(NAME_WINDOW_IMG, img)\n",
    "cv2.waitKey(0)"
   ]
  },
  {
   "cell_type": "code",
   "execution_count": null,
   "id": "73d51430",
   "metadata": {},
   "outputs": [],
   "source": []
  },
  {
   "cell_type": "code",
   "execution_count": null,
   "id": "6827b416",
   "metadata": {},
   "outputs": [],
   "source": []
  }
 ],
 "metadata": {
  "kernelspec": {
   "display_name": "Python 3 (ipykernel)",
   "language": "python",
   "name": "python3"
  },
  "language_info": {
   "codemirror_mode": {
    "name": "ipython",
    "version": 3
   },
   "file_extension": ".py",
   "mimetype": "text/x-python",
   "name": "python",
   "nbconvert_exporter": "python",
   "pygments_lexer": "ipython3",
   "version": "3.10.5"
  }
 },
 "nbformat": 4,
 "nbformat_minor": 5
}
